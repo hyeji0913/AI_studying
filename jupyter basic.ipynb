{
 "cells": [
  {
   "cell_type": "markdown",
   "id": "052f5b3c",
   "metadata": {},
   "source": [
    "# 주피터 노트북 사용법\n",
    "* 마크다운 은 esc+m을 사용할 것\n",
    "* shift + Enter 실행 & 다음셀\n",
    "* enter 를 누르면 다시 편집상태\n",
    "* a키는 위에 셀이 추가\n",
    "* b키는 아래에 셀추가\n",
    "* dd를 누르면 셀삭제\n",
    "* y 는 코드셀 변경"
   ]
  },
  {
   "cell_type": "code",
   "execution_count": 2,
   "id": "53784cee",
   "metadata": {
    "scrolled": true
   },
   "outputs": [
    {
     "name": "stdout",
     "output_type": "stream",
     "text": [
      "Hello World!\n"
     ]
    }
   ],
   "source": [
    "print(\"Hello World!\")"
   ]
  },
  {
   "cell_type": "code",
   "execution_count": 3,
   "id": "59351a56",
   "metadata": {},
   "outputs": [
    {
     "data": {
      "text/plain": [
       "3"
      ]
     },
     "execution_count": 3,
     "metadata": {},
     "output_type": "execute_result"
    }
   ],
   "source": [
    "a=1\n",
    "b=2\n",
    "a+b"
   ]
  },
  {
   "cell_type": "code",
   "execution_count": null,
   "id": "d47f2cca",
   "metadata": {},
   "outputs": [],
   "source": []
  }
 ],
 "metadata": {
  "kernelspec": {
   "display_name": "Python 3 (ipykernel)",
   "language": "python",
   "name": "python3"
  },
  "language_info": {
   "codemirror_mode": {
    "name": "ipython",
    "version": 3
   },
   "file_extension": ".py",
   "mimetype": "text/x-python",
   "name": "python",
   "nbconvert_exporter": "python",
   "pygments_lexer": "ipython3",
   "version": "3.10.6"
  }
 },
 "nbformat": 4,
 "nbformat_minor": 5
}
